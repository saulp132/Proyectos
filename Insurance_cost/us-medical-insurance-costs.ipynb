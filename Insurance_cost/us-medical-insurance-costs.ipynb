{
 "cells": [
  {
   "cell_type": "markdown",
   "metadata": {},
   "source": [
    "# U.S. Medical Insurance Costs"
   ]
  },
  {
   "cell_type": "markdown",
   "metadata": {},
   "source": [
    "# 1. Organize the data\n",
    "\n",
    "The first step is to import the csv module to organize the Medical insurance data.\n",
    "i create a list called `data_list` to store every row information like a dictionary.\n",
    "i create a list for every column in the data aiming to analise the variables in differente ways and how one can be related to the other"
   ]
  },
  {
   "cell_type": "code",
   "execution_count": 30,
   "metadata": {},
   "outputs": [],
   "source": [
    "import csv\n",
    "from matplotlib import pyplot as plt\n",
    "import numpy as np"
   ]
  },
  {
   "cell_type": "code",
   "execution_count": 31,
   "metadata": {},
   "outputs": [],
   "source": [
    "data_list = []\n",
    "age = []\n",
    "sex = []\n",
    "children = []\n",
    "smoker =[]\n",
    "region = []\n",
    "charges = []\n",
    "smoker_int = []\n",
    "with open(\"insurance.csv\", newline='') as insurance_file:\n",
    "    dict_insurance_file = csv.DictReader(insurance_file)\n",
    "    for row in dict_insurance_file:\n",
    "        data_list.append(row)\n",
    "        age.append(float(row[\"age\"]))\n",
    "        sex.append(row[\"sex\"])\n",
    "        children.append(float(row[\"children\"]))\n",
    "        smoker.append(row[\"smoker\"])\n",
    "        region.append(row[\"region\"])\n",
    "        charges.append(float(row[\"charges\"]))\n",
    "for i in smoker:\n",
    "    if i == \"yes\":\n",
    "        smoker_int.append(1)\n",
    "    else: smoker_int.append(0)\n"
   ]
  },
  {
   "cell_type": "markdown",
   "metadata": {},
   "source": [
    "# 2. Analize the data\n"
   ]
  },
  {
   "cell_type": "markdown",
   "metadata": {},
   "source": [
    "### 2.1. Age analysis"
   ]
  },
  {
   "cell_type": "code",
   "execution_count": 32,
   "metadata": {},
   "outputs": [
    {
     "name": "stdout",
     "output_type": "stream",
     "text": [
      "The youngest people in our data are 18.0 years old while the older are 64.0 years old. We have an average of 39.21 in our population\n",
      "The average age of women in our data is 39.5 years old while the men hava and average of 38.92 years old.\n"
     ]
    }
   ],
   "source": [
    "median_age = 0\n",
    "min_age = min(age)\n",
    "max_age = max(age)\n",
    "cum_age = 0 \n",
    "for i in age:\n",
    "    cum_age += i\n",
    "median_age = round(cum_age/ len(age),2)\n",
    "print(f\"The youngest people in our data are {min_age} years old while the older are {max_age} years old. We have an average of {median_age} in our population\")\n",
    "sex_age = zip(sex,age)\n",
    "m_counter = 0\n",
    "f_counter = 0\n",
    "m_cum_age = 0\n",
    "f_cum_age = 0\n",
    "for i in sex_age:\n",
    "    if i[0] == \"male\":\n",
    "        m_counter += 1\n",
    "        m_cum_age += i[1]\n",
    "    else: \n",
    "        f_counter += 1\n",
    "        f_cum_age += i[1]\n",
    "median_age_m = round(m_cum_age / m_counter, 2)\n",
    "median_age_f = round(f_cum_age /f_counter, 2)\n",
    "print(f\"The average age of women in our data is {median_age_f} years old while the men hava and average of {median_age_m} years old.\")\n"
   ]
  },
  {
   "cell_type": "code",
   "execution_count": 33,
   "metadata": {},
   "outputs": [
    {
     "data": {
      "text/plain": [
       "<matplotlib.lines.Line2D at 0x292770751f0>"
      ]
     },
     "execution_count": 33,
     "metadata": {},
     "output_type": "execute_result"
    },
    {
     "data": {
      "image/png": "[encoded data removed]",
      "text/plain": [
       "<Figure size 432x288 with 1 Axes>"
      ]
     },
     "metadata": {
      "needs_background": "light"
     },
     "output_type": "display_data"
    }
   ],
   "source": [
    "def interval(width_of_intervals):\n",
    "    bin_i = min_age\n",
    "    bins = []\n",
    "    for i in range(int((max_age-min_age)//width_of_intervals)+2):\n",
    "        bins.append(int(bin_i))\n",
    "        bin_i += width_of_intervals\n",
    "    return bins\n",
    "\n",
    "bins = interval(6)\n",
    "\n",
    "plt.hist(age, bins=bins,edgecolor = \"black\")\n",
    "plt.title(\"Age distributions\")\n",
    "plt.xlabel(\"Ages\")\n",
    "plt.ylabel(\"People within a range of age\")\n",
    "plt.axvline(median_age,color=\"red\", label = \"Age Median\",linewidth = 2)\n",
    "\n",
    "\n"
   ]
  },
  {
   "cell_type": "code",
   "execution_count": 34,
   "metadata": {},
   "outputs": [
    {
     "name": "stdout",
     "output_type": "stream",
     "text": [
      "In the Histogram we can see the ages distribution of our population with intervals divided in the next intervals: [18, 24, 30, 36, 42, 48, 54, 60, 66]\n",
      "\n",
      "We can see our the median represented by a red vertical line\n",
      "\n",
      "The interval with more population is the first one with people within the ages of 18 and 24\n",
      "The interval with less population is the last one with people within the ages of 60 and 66\n"
     ]
    }
   ],
   "source": [
    "print(f\"In the Histogram we can see the ages distribution of our population with intervals divided in the next intervals: {bins}\")\n",
    "print()\n",
    "print(f\"We can see our the median represented by a red vertical line\")\n",
    "print()\n",
    "print(f\"The interval with more population is the first one with people within the ages of {bins[0]} and {bins[1]}\")\n",
    "print(f\"The interval with less population is the last one with people within the ages of {bins[-2]} and {bins[-1]}\")\n",
    "\n"
   ]
  },
  {
   "cell_type": "markdown",
   "metadata": {},
   "source": [
    "## 2.2. Age-charges analysis"
   ]
  },
  {
   "cell_type": "markdown",
   "metadata": {},
   "source": [
    "\n",
    "        \n",
    "    "
   ]
  },
  {
   "cell_type": "code",
   "execution_count": 35,
   "metadata": {},
   "outputs": [
    {
     "name": "stdout",
     "output_type": "stream",
     "text": [
      "          Men       Women\n",
      "18-24   8789.0     8870.3\n",
      "24-30   11231.3     8101.2\n",
      "30-36   12118.3     10321.7\n",
      "36-42   13086.2     10663.4\n",
      "42-48   16413.1     15242.2\n",
      "48-54   16178.2     14847.3\n",
      "54-60   17423.0     15716.6\n",
      "60-66   22155.3     20218.2\n"
     ]
    },
    {
     "data": {
      "image/png": "[encoded data removed]",
      "text/plain": [
       "<Figure size 432x288 with 1 Axes>"
      ]
     },
     "metadata": {
      "needs_background": "light"
     },
     "output_type": "display_data"
    }
   ],
   "source": [
    "def age_var2(age,sex,var2,var2_name,bins,percentaje = False):\n",
    "    \n",
    "    dict_bins = {}\n",
    "    dict_bins_m = {}\n",
    "    dict_bins_f = {}\n",
    "    keys = []\n",
    "    for i in range(len(bins)-1):\n",
    "        key = str(bins[i])+\"-\"+str(bins[i+1])\n",
    "        keys.append(key)\n",
    "        dict_bins[key] = \"\"\n",
    "   \n",
    "    for i in range(len(bins)-1):\n",
    "        cum_var2 = 0\n",
    "        cum_var2_m = 0\n",
    "        cum_var2_f = 0\n",
    "        counter_m =0\n",
    "        counter_f = 0\n",
    "        counter = 0\n",
    "       \n",
    "        \n",
    "        for j in range(len(age)-1):\n",
    "            \n",
    "            if age[j] >= bins[i] and age[j] < bins[i+1]:\n",
    "                cum_var2 += var2[j]\n",
    "                counter += 1\n",
    "            if age[j] >= bins[i] and age[j] < bins[i+1] and sex[j] ==\"male\":\n",
    "                cum_var2_m += var2[j]\n",
    "                counter_m += 1\n",
    "            if age[j] >= bins[i] and age[j] < bins[i+1] and sex[j] ==\"female\":\n",
    "                cum_var2_f += var2[j]\n",
    "                counter_f += 1\n",
    "        dict_bins[keys[i]] = cum_var2 / counter\n",
    "        dict_bins_m[keys[i]] = cum_var2_m / counter_m\n",
    "        dict_bins_f[keys[i]] = cum_var2_f / counter_f\n",
    "    \n",
    "    \n",
    "    \n",
    "    charge_means = [dict_bins[val] for val in keys]\n",
    "    charge_means_m = [dict_bins_m[val] for val in keys]\n",
    "    charge_means_f = [dict_bins_f[val] for val in keys]\n",
    "    \n",
    "    fig, ax = plt.subplots()\n",
    "    x = np.arange(len(keys))\n",
    "    width = 0.3\n",
    "    men_bar = ax.bar(x - width/2, charge_means_m, width, label='Men')\n",
    "    women_bar = ax.bar(x + width/2, charge_means_f, width, label='Women')\n",
    "     \n",
    "    ax.set_ylabel(var2_name)\n",
    "    ax.set_title('Ages and '+ str(var2_name)+ ' Relation')\n",
    "    ax.set_xticks(x)\n",
    "    ax.set_xticklabels(keys)\n",
    "    ax.legend()\n",
    "    \n",
    "    print(\"     \",\"    Men    \",\"  Women\")\n",
    "    if percentaje == True:\n",
    "        for i in range(len(keys)):\n",
    "            print(keys[i],\" \",round(charge_means_m[i]*100,1),\"%\",\"   \",round(charge_means_f[i]*100,1),\"%\")\n",
    "    else:   \n",
    "        for i in range(len(keys)):\n",
    "            print(keys[i],\" \",round(charge_means_m[i],1),\"   \",round(charge_means_f[i],1))\n",
    "    \n",
    "\n",
    "    \n",
    "age_var2(age,sex,charges,\"Charges\",bins)        \n",
    "  "
   ]
  },
  {
   "cell_type": "markdown",
   "metadata": {},
   "source": [
    "As expected we can see that the charges are growing with the range age.\n",
    "additionaly we can observe in the plot that the men pay more charges in almost all ranges of age that women."
   ]
  },
  {
   "cell_type": "markdown",
   "metadata": {},
   "source": [
    "# Why are men been chargin more than women?"
   ]
  },
  {
   "cell_type": "code",
   "execution_count": 36,
   "metadata": {},
   "outputs": [
    {
     "name": "stdout",
     "output_type": "stream",
     "text": [
      "          Men       Women\n",
      "18-24   0.6     0.6\n",
      "24-30   1.2     0.9\n",
      "30-36   1.6     1.3\n",
      "36-42   1.6     1.6\n",
      "42-48   1.6     1.2\n",
      "48-54   1.2     1.4\n",
      "54-60   0.7     1.1\n",
      "60-66   0.6     0.6\n"
     ]
    },
    {
     "data": {
      "image/png": "[encoded data removed]",
      "text/plain": [
       "<Figure size 432x288 with 1 Axes>"
      ]
     },
     "metadata": {
      "needs_background": "light"
     },
     "output_type": "display_data"
    }
   ],
   "source": [
    "age_var2(age,sex,children,\"Children\",bins)   "
   ]
  },
  {
   "cell_type": "code",
   "execution_count": 37,
   "metadata": {},
   "outputs": [
    {
     "name": "stdout",
     "output_type": "stream",
     "text": [
      "          Men       Women\n",
      "18-24   21.5 %     21.7 %\n",
      "24-30   24.4 %     13.6 %\n",
      "30-36   27.5 %     16.9 %\n",
      "36-42   23.1 %     15.8 %\n",
      "42-48   28.6 %     26.2 %\n",
      "48-54   21.2 %     13.8 %\n",
      "54-60   18.2 %     7.6 %\n",
      "60-66   25.0 %     21.1 %\n"
     ]
    },
    {
     "data": {
      "image/png": "[encoded data removed]",
      "text/plain": [
       "<Figure size 432x288 with 1 Axes>"
      ]
     },
     "metadata": {
      "needs_background": "light"
     },
     "output_type": "display_data"
    }
   ],
   "source": [
    "age_var2(age,sex,smoker_int,\"Smokers\",bins,True) "
   ]
  },
  {
   "cell_type": "markdown",
   "metadata": {},
   "source": [
    "From the plot we can say. There is a reltion between the charges, sex, if they have children and if they are smokers.\n",
    "The older the person more expensive the charges.\n",
    "Men pay more than women in the same range of age because they smoke more than women or the have more children than women."
   ]
  },
  {
   "cell_type": "markdown",
   "metadata": {},
   "source": [
    "# Is there a relation between the region and the charges?"
   ]
  },
  {
   "cell_type": "code",
   "execution_count": 38,
   "metadata": {},
   "outputs": [
    {
     "data": {
      "image/png": "[encoded data removed]",
      "text/plain": [
       "<Figure size 432x288 with 1 Axes>"
      ]
     },
     "metadata": {
      "needs_background": "light"
     },
     "output_type": "display_data"
    }
   ],
   "source": [
    "def region_plot(region,charge):\n",
    "    region_u = []\n",
    "    mean_charge_per_region =[]\n",
    "    counter = 0\n",
    "    cum_charge_per_region = 0\n",
    "    median_charge = 0\n",
    "    for i in charge:\n",
    "        median_charge += i\n",
    "    median_charge /= len(charge)     \n",
    "    for r in region:\n",
    "        if r not in region_u:\n",
    "            region_u.append(r)\n",
    "    counter = 0\n",
    "    for i in range(len(region_u)):\n",
    "        for j in range(len(region)):\n",
    "            if region[j] == region_u[i]:\n",
    "                counter += 1\n",
    "                cum_charge_per_region += charge[j]                \n",
    "        mean_charge_per_region.append(round(cum_charge_per_region / counter,2))      \n",
    "    fig, ax = plt.subplots()\n",
    "    x = np.arange(len(mean_charge_per_region))\n",
    "    width = 0.3\n",
    "    region_bar = ax.bar(x, mean_charge_per_region, width, label='Men')\n",
    "    plt.axhline(median_charge,color=\"red\", label = \"Charge Median\",linewidth = 2)\n",
    "   \n",
    "    ax.set_ylabel(\"Charges\")\n",
    "    ax.set_title('Region and charges Relation')\n",
    "    ax.set_xticks(x)\n",
    "    ax.set_xticklabels(region_u)\n",
    "    ax.legend()\n",
    "    \n",
    "region_plot(region,charges)   "
   ]
  },
  {
   "cell_type": "markdown",
   "metadata": {},
   "source": [
    "We can see that there isn't a huge difference in ther charges in every region the people pay less in the `southwest` region but is not a important difference\n"
   ]
  },
  {
   "cell_type": "markdown",
   "metadata": {},
   "source": [
    "# Conclusions\n",
    "\n",
    "1. The range of age with more people in our population in the range `18-24` and the range `60-66` have less population, in the other intervals the population within them is almost the same\n",
    "2. Is clear that the charge are more expensive when the person is older \n",
    "3. Men are paying more charges than women in almost every interval of age\n",
    "4. In our population Men Smoke more. That could be the main reason in the difference of charges.\n",
    "5. The region dont show any important influence in the charges\n",
    "\n",
    "\n"
   ]
  },
  {
   "cell_type": "markdown",
   "metadata": {},
   "source": [
    "# Questions?\n",
    "\n",
    "In this project i choose the age intervals subjectively.\n",
    "\n",
    "there is a context which a relevant and specifics range of ages in which the data could be analized different?\n"
   ]
  }
 ],
 "metadata": {
  "kernelspec": {
   "display_name": "Python 3",
   "language": "python",
   "name": "python3"
  },
  "language_info": {
   "codemirror_mode": {
    "name": "ipython",
    "version": 3
   },
   "file_extension": ".py",
   "mimetype": "text/x-python",
   "name": "python",
   "nbconvert_exporter": "python",
   "pygments_lexer": "ipython3",
   "version": "3.8.8"
  }
 },
 "nbformat": 4,
 "nbformat_minor": 4
}
